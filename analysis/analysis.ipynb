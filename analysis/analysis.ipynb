{
 "cells": [
  {
   "cell_type": "code",
   "execution_count": 11,
   "metadata": {},
   "outputs": [
    {
     "data": {
      "text/html": [
       "<div>\n",
       "<style scoped>\n",
       "    .dataframe tbody tr th:only-of-type {\n",
       "        vertical-align: middle;\n",
       "    }\n",
       "\n",
       "    .dataframe tbody tr th {\n",
       "        vertical-align: top;\n",
       "    }\n",
       "\n",
       "    .dataframe thead th {\n",
       "        text-align: right;\n",
       "    }\n",
       "</style>\n",
       "<table border=\"1\" class=\"dataframe\">\n",
       "  <thead>\n",
       "    <tr style=\"text-align: right;\">\n",
       "      <th></th>\n",
       "      <th>Input</th>\n",
       "      <th>KK</th>\n",
       "      <th>RR</th>\n",
       "      <th>HC</th>\n",
       "      <th>SA</th>\n",
       "      <th>PRR</th>\n",
       "      <th>PHC</th>\n",
       "      <th>PSA</th>\n",
       "    </tr>\n",
       "  </thead>\n",
       "  <tbody>\n",
       "    <tr>\n",
       "      <th>0</th>\n",
       "      <td>0</td>\n",
       "      <td>7116</td>\n",
       "      <td>202167570</td>\n",
       "      <td>382808140</td>\n",
       "      <td>17817898</td>\n",
       "      <td>46</td>\n",
       "      <td>176</td>\n",
       "      <td>144</td>\n",
       "    </tr>\n",
       "    <tr>\n",
       "      <th>1</th>\n",
       "      <td>1</td>\n",
       "      <td>251581</td>\n",
       "      <td>233592393</td>\n",
       "      <td>8603149</td>\n",
       "      <td>54682265</td>\n",
       "      <td>47</td>\n",
       "      <td>91</td>\n",
       "      <td>49</td>\n",
       "    </tr>\n",
       "    <tr>\n",
       "      <th>2</th>\n",
       "      <td>2</td>\n",
       "      <td>925499</td>\n",
       "      <td>47589807</td>\n",
       "      <td>460389181</td>\n",
       "      <td>14110329</td>\n",
       "      <td>19291</td>\n",
       "      <td>6493</td>\n",
       "      <td>33841</td>\n",
       "    </tr>\n",
       "    <tr>\n",
       "      <th>3</th>\n",
       "      <td>3</td>\n",
       "      <td>99255</td>\n",
       "      <td>41433759</td>\n",
       "      <td>11013177</td>\n",
       "      <td>112068391</td>\n",
       "      <td>19</td>\n",
       "      <td>65</td>\n",
       "      <td>75</td>\n",
       "    </tr>\n",
       "    <tr>\n",
       "      <th>4</th>\n",
       "      <td>4</td>\n",
       "      <td>309</td>\n",
       "      <td>576340515</td>\n",
       "      <td>90012277</td>\n",
       "      <td>222056155</td>\n",
       "      <td>21</td>\n",
       "      <td>213</td>\n",
       "      <td>21</td>\n",
       "    </tr>\n",
       "  </tbody>\n",
       "</table>\n",
       "</div>"
      ],
      "text/plain": [
       "   Input      KK         RR         HC         SA    PRR   PHC    PSA\n",
       "0      0    7116  202167570  382808140   17817898     46   176    144\n",
       "1      1  251581  233592393    8603149   54682265     47    91     49\n",
       "2      2  925499   47589807  460389181   14110329  19291  6493  33841\n",
       "3      3   99255   41433759   11013177  112068391     19    65     75\n",
       "4      4     309  576340515   90012277  222056155     21   213     21"
      ]
     },
     "execution_count": 11,
     "metadata": {},
     "output_type": "execute_result"
    }
   ],
   "source": [
    "# Importing csv data\n",
    "import pandas as pd\n",
    "import numpy as np\n",
    "df = pd.read_csv('CS124_PA3_data.csv').iloc[:, :-1]\n",
    "t = df.to_numpy()\n",
    "\n",
    "df.head()"
   ]
  },
  {
   "cell_type": "code",
   "execution_count": 12,
   "metadata": {},
   "outputs": [
    {
     "data": {
      "text/plain": [
       "['Input', 'KK', 'RR', 'HC', 'SA', 'PRR', 'PHC', 'PSA']"
      ]
     },
     "execution_count": 12,
     "metadata": {},
     "output_type": "execute_result"
    }
   ],
   "source": [
    "df.columns.to_list()"
   ]
  },
  {
   "cell_type": "code",
   "execution_count": 3,
   "metadata": {},
   "outputs": [
    {
     "data": {
      "text/plain": [
       "array([0, 0, 0, 0, 0, 0, 0, 0, 0, 0, 0, 0, 0, 0, 0, 0, 0, 0, 0, 0, 0, 0,\n",
       "       0, 0, 0, 0, 0, 0, 0, 0, 0, 0, 0, 0, 0, 0, 0, 0, 0, 0, 0, 0, 0, 0,\n",
       "       0, 0, 0, 0, 0, 0])"
      ]
     },
     "execution_count": 3,
     "metadata": {},
     "output_type": "execute_result"
    }
   ],
   "source": [
    "np.argsort(t[:,1:], axis=1)[:,3]"
   ]
  },
  {
   "cell_type": "code",
   "execution_count": 19,
   "metadata": {},
   "outputs": [
    {
     "data": {
      "text/html": [
       "<div>\n",
       "<style scoped>\n",
       "    .dataframe tbody tr th:only-of-type {\n",
       "        vertical-align: middle;\n",
       "    }\n",
       "\n",
       "    .dataframe tbody tr th {\n",
       "        vertical-align: top;\n",
       "    }\n",
       "\n",
       "    .dataframe thead th {\n",
       "        text-align: right;\n",
       "    }\n",
       "</style>\n",
       "<table border=\"1\" class=\"dataframe\">\n",
       "  <thead>\n",
       "    <tr style=\"text-align: right;\">\n",
       "      <th></th>\n",
       "      <th>mean</th>\n",
       "      <th>std</th>\n",
       "      <th>min</th>\n",
       "      <th>25%</th>\n",
       "      <th>50%</th>\n",
       "      <th>75%</th>\n",
       "      <th>max</th>\n",
       "    </tr>\n",
       "  </thead>\n",
       "  <tbody>\n",
       "    <tr>\n",
       "      <th>RR</th>\n",
       "      <td>2.254458e+08</td>\n",
       "      <td>1.981720e+08</td>\n",
       "      <td>8229764.0</td>\n",
       "      <td>85500912.50</td>\n",
       "      <td>166202609.5</td>\n",
       "      <td>2.924311e+08</td>\n",
       "      <td>8.249470e+08</td>\n",
       "    </tr>\n",
       "    <tr>\n",
       "      <th>HC</th>\n",
       "      <td>2.963637e+08</td>\n",
       "      <td>2.747173e+08</td>\n",
       "      <td>1927953.0</td>\n",
       "      <td>95717251.00</td>\n",
       "      <td>250296922.5</td>\n",
       "      <td>3.807174e+08</td>\n",
       "      <td>1.212114e+09</td>\n",
       "    </tr>\n",
       "    <tr>\n",
       "      <th>SA</th>\n",
       "      <td>2.201280e+08</td>\n",
       "      <td>2.489743e+08</td>\n",
       "      <td>8680311.0</td>\n",
       "      <td>55272808.50</td>\n",
       "      <td>134442929.0</td>\n",
       "      <td>2.726516e+08</td>\n",
       "      <td>1.309429e+09</td>\n",
       "    </tr>\n",
       "    <tr>\n",
       "      <th>KK</th>\n",
       "      <td>4.513334e+05</td>\n",
       "      <td>5.315447e+05</td>\n",
       "      <td>261.0</td>\n",
       "      <td>31543.75</td>\n",
       "      <td>152235.0</td>\n",
       "      <td>8.269082e+05</td>\n",
       "      <td>1.969926e+06</td>\n",
       "    </tr>\n",
       "    <tr>\n",
       "      <th>PRR</th>\n",
       "      <td>8.782220e+03</td>\n",
       "      <td>2.556617e+04</td>\n",
       "      <td>0.0</td>\n",
       "      <td>27.50</td>\n",
       "      <td>71.0</td>\n",
       "      <td>6.575250e+03</td>\n",
       "      <td>1.594080e+05</td>\n",
       "    </tr>\n",
       "    <tr>\n",
       "      <th>PHC</th>\n",
       "      <td>1.858254e+04</td>\n",
       "      <td>4.974372e+04</td>\n",
       "      <td>3.0</td>\n",
       "      <td>66.50</td>\n",
       "      <td>227.5</td>\n",
       "      <td>4.359500e+03</td>\n",
       "      <td>2.203110e+05</td>\n",
       "    </tr>\n",
       "    <tr>\n",
       "      <th>PSA</th>\n",
       "      <td>8.043060e+03</td>\n",
       "      <td>1.731687e+04</td>\n",
       "      <td>1.0</td>\n",
       "      <td>42.25</td>\n",
       "      <td>116.0</td>\n",
       "      <td>1.495250e+03</td>\n",
       "      <td>6.423400e+04</td>\n",
       "    </tr>\n",
       "  </tbody>\n",
       "</table>\n",
       "</div>"
      ],
      "text/plain": [
       "             mean           std        min          25%          50%  \\\n",
       "RR   2.254458e+08  1.981720e+08  8229764.0  85500912.50  166202609.5   \n",
       "HC   2.963637e+08  2.747173e+08  1927953.0  95717251.00  250296922.5   \n",
       "SA   2.201280e+08  2.489743e+08  8680311.0  55272808.50  134442929.0   \n",
       "KK   4.513334e+05  5.315447e+05      261.0     31543.75     152235.0   \n",
       "PRR  8.782220e+03  2.556617e+04        0.0        27.50         71.0   \n",
       "PHC  1.858254e+04  4.974372e+04        3.0        66.50        227.5   \n",
       "PSA  8.043060e+03  1.731687e+04        1.0        42.25        116.0   \n",
       "\n",
       "              75%           max  \n",
       "RR   2.924311e+08  8.249470e+08  \n",
       "HC   3.807174e+08  1.212114e+09  \n",
       "SA   2.726516e+08  1.309429e+09  \n",
       "KK   8.269082e+05  1.969926e+06  \n",
       "PRR  6.575250e+03  1.594080e+05  \n",
       "PHC  4.359500e+03  2.203110e+05  \n",
       "PSA  1.495250e+03  6.423400e+04  "
      ]
     },
     "execution_count": 19,
     "metadata": {},
     "output_type": "execute_result"
    }
   ],
   "source": [
    "# Generating Summary Statistics for each column\n",
    "summary = df[[\"RR\", \"HC\", \"SA\", \"KK\", \"PRR\", \"PHC\", \"PSA\"]].describe().T.drop(['count'], axis=1)\n",
    "summary\n"
   ]
  },
  {
   "cell_type": "code",
   "execution_count": 33,
   "metadata": {},
   "outputs": [
    {
     "data": {
      "image/png": "[encoded data removed]",
      "text/plain": [
       "<Figure size 432x288 with 1 Axes>"
      ]
     },
     "metadata": {
      "needs_background": "light"
     },
     "output_type": "display_data"
    }
   ],
   "source": [
    "for c in [\"RR\", \"HC\", \"SA\", \"KK\", \"PRR\", \"PHC\", \"PSA\"]:\n",
    "    df[c].plot.line().figure.savefig(\"Lines_\" + c)\n"
   ]
  },
  {
   "cell_type": "code",
   "execution_count": 42,
   "metadata": {},
   "outputs": [
    {
     "data": {
      "text/plain": [
       "numpy.ndarray"
      ]
     },
     "execution_count": 42,
     "metadata": {},
     "output_type": "execute_result"
    },
    {
     "data": {
      "image/png": "[encoded data removed]",
      "text/plain": [
       "<Figure size 432x288 with 8 Axes>"
      ]
     },
     "metadata": {
      "needs_background": "light"
     },
     "output_type": "display_data"
    }
   ],
   "source": [
    "axes = df[[\"RR\", \"HC\", \"SA\", \"KK\", \"PRR\", \"PHC\", \"PSA\"]].plot(kind=\"hist\", subplots=True, layout=(4,2), sharey=True, sharex=True, ylabel=\"Freq\", xlabel=\"Residuals\")"
   ]
  },
  {
   "cell_type": "code",
   "execution_count": 20,
   "metadata": {},
   "outputs": [],
   "source": [
    "summary.to_csv(\"algo_summary.csv\")"
   ]
  },
  {
   "cell_type": "code",
   "execution_count": 30,
   "metadata": {},
   "outputs": [
    {
     "data": {
      "image/png": "[encoded data removed]",
      "text/plain": [
       "<Figure size 432x288 with 1 Axes>"
      ]
     },
     "metadata": {
      "needs_background": "light"
     },
     "output_type": "display_data"
    }
   ],
   "source": [
    "for c in [\"RR\", \"HC\", \"SA\", \"KK\", \"PRR\", \"PHC\", \"PSA\"]:\n",
    "    df[c].plot.hist(bins=12, alpha=0.5, xlabel=\"\").figure.savefig(\"Hist_\" + c)"
   ]
  },
  {
   "cell_type": "code",
   "execution_count": null,
   "metadata": {},
   "outputs": [],
   "source": []
  }
 ],
 "metadata": {
  "interpreter": {
   "hash": "31f2aee4e71d21fbe5cf8b01ff0e069b9275f58929596ceb00d14d90e3e16cd6"
  },
  "kernelspec": {
   "display_name": "Python 3.8.9 64-bit",
   "language": "python",
   "name": "python3"
  },
  "language_info": {
   "codemirror_mode": {
    "name": "ipython",
    "version": 3
   },
   "file_extension": ".py",
   "mimetype": "text/x-python",
   "name": "python",
   "nbconvert_exporter": "python",
   "pygments_lexer": "ipython3",
   "version": "3.9.7"
  },
  "orig_nbformat": 4
 },
 "nbformat": 4,
 "nbformat_minor": 2
}
